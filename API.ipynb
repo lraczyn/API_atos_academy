{
 "cells": [
  {
   "cell_type": "code",
   "execution_count": 2,
   "outputs": [],
   "source": [
    "import requests\n",
    "from bs4 import BeautifulSoup as soup"
   ],
   "metadata": {
    "collapsed": false,
    "pycharm": {
     "name": "#%%\n"
    }
   }
  },
  {
   "cell_type": "code",
   "execution_count": 3,
   "outputs": [],
   "source": [
    "response = requests.get('https://pl.wikipedia.org/wiki/Iga_%C5%9Awi%C4%85tek')"
   ],
   "metadata": {
    "collapsed": false,
    "pycharm": {
     "name": "#%%\n"
    }
   }
  },
  {
   "cell_type": "code",
   "execution_count": 4,
   "outputs": [
    {
     "data": {
      "text/plain": "200"
     },
     "execution_count": 4,
     "metadata": {},
     "output_type": "execute_result"
    }
   ],
   "source": [
    "response.status_code"
   ],
   "metadata": {
    "collapsed": false,
    "pycharm": {
     "name": "#%%\n"
    }
   }
  },
  {
   "cell_type": "markdown",
   "source": [],
   "metadata": {
    "collapsed": false,
    "pycharm": {
     "name": "#%% md\n"
    }
   }
  },
  {
   "cell_type": "code",
   "execution_count": 7,
   "outputs": [],
   "source": [
    "html_data = soup(response.text, 'html.parser' )"
   ],
   "metadata": {
    "collapsed": false,
    "pycharm": {
     "name": "#%%\n"
    }
   }
  },
  {
   "cell_type": "code",
   "execution_count": 8,
   "outputs": [
    {
     "data": {
      "text/plain": "<p>Iga Natalia Świątek\n</p>"
     },
     "execution_count": 8,
     "metadata": {},
     "output_type": "execute_result"
    }
   ],
   "source": [
    "html_data.find(\"p\")"
   ],
   "metadata": {
    "collapsed": false,
    "pycharm": {
     "name": "#%%\n"
    }
   }
  },
  {
   "cell_type": "code",
   "execution_count": 10,
   "outputs": [],
   "source": [
    "# - liczba samogłosek\n",
    "# - najczęsciej pojawiającą się literę, wraz z liczbą powtórzeń\n",
    "# - ilość słów\n",
    "# - ilość znaczników p\n",
    "# - ilosć znaczników a, posiadających link do strony"
   ],
   "metadata": {
    "collapsed": false,
    "pycharm": {
     "name": "#%%\n"
    }
   }
  },
  {
   "cell_type": "code",
   "execution_count": 11,
   "outputs": [],
   "source": [
    "def count_vovels(data: str) -> int:\n",
    "    vovel_number = 0\n",
    "    for letter in data:\n",
    "        if letter in ('a', 'e', 'o', 'u', 'i', 'y', 'ą', 'ó', 'ę'):\n",
    "            vovel_number += 1\n",
    "    return vovel_number"
   ],
   "metadata": {
    "collapsed": false,
    "pycharm": {
     "name": "#%%\n"
    }
   }
  },
  {
   "cell_type": "code",
   "execution_count": 13,
   "outputs": [],
   "source": [
    "from collections import Counter\n",
    "\n",
    "def letter_count(text):\n",
    "    return Counter(c for c in text.lower() if c.isalpha())"
   ],
   "metadata": {
    "collapsed": false,
    "pycharm": {
     "name": "#%%\n"
    }
   }
  },
  {
   "cell_type": "code",
   "execution_count": 18,
   "outputs": [
    {
     "data": {
      "text/plain": "Counter({'a': 5,\n         'k': 1,\n         'd': 1,\n         'e': 1,\n         'm': 1,\n         'i': 1,\n         't': 1,\n         'o': 1,\n         's': 1})"
     },
     "execution_count": 18,
     "metadata": {},
     "output_type": "execute_result"
    }
   ],
   "source": [
    "letter_count('akademia ataos')"
   ],
   "metadata": {
    "collapsed": false,
    "pycharm": {
     "name": "#%%\n"
    }
   }
  },
  {
   "cell_type": "code",
   "execution_count": 26,
   "outputs": [],
   "source": [
    "def get_statistics(url: str) -> dict:\n",
    "    response = requests.get(url)\n",
    "    if response.status_code != 200:\n",
    "        print('nie otrzymano odpowiedzi')\n",
    "        return\n",
    "    html_data = soup(response.text, 'html.parser' )\n",
    "\n",
    "    word_counter = 0\n",
    "    volves_counter = 0\n",
    "    letter_counter = dict()\n",
    "\n",
    "    for a in html_data.find_all(\"a\"):\n",
    "        text = a.text\n",
    "        number_of_words = len(text.split(' '))\n",
    "        word_counter += number_of_words\n",
    "        number_of_vovels = count_vovels(text)\n",
    "        volves_counter += number_of_vovels\n",
    "        dict_of_letters = letter_count(text)\n",
    "        for letter, value in dict_of_letters.items():\n",
    "            if letter_counter.get(letter,None):\n",
    "                letter_counter[letter] += value\n",
    "            else:\n",
    "                letter_counter[letter] = value\n",
    "\n",
    "    most_frequent_letter = max(letter_counter, key=letter_counter.get)\n",
    "    return {\n",
    "        'number of words': word_counter,\n",
    "        'vovels counter': volves_counter,\n",
    "        'most letter': f'most requent letter is {most_frequent_letter}: {letter_counter[most_frequent_letter]}',\n",
    "        'numer of a': len(html_data.find_all(\"a\"))\n",
    "\n",
    "    }\n",
    "\n"
   ],
   "metadata": {
    "collapsed": false,
    "pycharm": {
     "name": "#%%\n"
    }
   }
  },
  {
   "cell_type": "code",
   "execution_count": 27,
   "outputs": [
    {
     "data": {
      "text/plain": "{'number of words': 11826,\n 'vovels counter': 5860,\n 'most letter': 'most requent letter is a: 1497',\n 'numer of a': 472}"
     },
     "execution_count": 27,
     "metadata": {},
     "output_type": "execute_result"
    }
   ],
   "source": [
    "get_statistics('http://onet.pl')"
   ],
   "metadata": {
    "collapsed": false,
    "pycharm": {
     "name": "#%%\n"
    }
   }
  },
  {
   "cell_type": "code",
   "execution_count": 29,
   "outputs": [],
   "source": [
    "import fastapi\n",
    "import unicorn"
   ],
   "metadata": {
    "collapsed": false,
    "pycharm": {
     "name": "#%%\n"
    }
   }
  },
  {
   "cell_type": "code",
   "execution_count": null,
   "outputs": [],
   "source": [],
   "metadata": {
    "collapsed": false,
    "pycharm": {
     "name": "#%%\n"
    }
   }
  }
 ],
 "metadata": {
  "kernelspec": {
   "display_name": "Python 3",
   "language": "python",
   "name": "python3"
  },
  "language_info": {
   "codemirror_mode": {
    "name": "ipython",
    "version": 2
   },
   "file_extension": ".py",
   "mimetype": "text/x-python",
   "name": "python",
   "nbconvert_exporter": "python",
   "pygments_lexer": "ipython2",
   "version": "2.7.6"
  }
 },
 "nbformat": 4,
 "nbformat_minor": 0
}